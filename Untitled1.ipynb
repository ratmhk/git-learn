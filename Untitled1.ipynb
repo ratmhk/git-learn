{
 "cells": [
  {
   "cell_type": "code",
   "execution_count": 1,
   "metadata": {
    "collapsed": false
   },
   "outputs": [
    {
     "name": "stdout",
     "output_type": "stream",
     "text": [
      "On branch master\n",
      "\n",
      "No commits yet\n",
      "\n",
      "Untracked files:\n",
      "  (use \"git add <file>...\" to include in what will be committed)\n",
      "\n",
      "\t.gitignore.ipynb\n",
      "\t.ipynb_checkpoints/\n",
      "\tUntitled1.ipynb\n",
      "\treadme.txt\n",
      "\n",
      "nothing added to commit but untracked files present (use \"git add\" to track)\n"
     ]
    }
   ],
   "source": [
    "!git status"
   ]
  },
  {
   "cell_type": "code",
   "execution_count": 2,
   "metadata": {
    "collapsed": false
   },
   "outputs": [
    {
     "name": "stderr",
     "output_type": "stream",
     "text": [
      "fatal: clean.requireForce defaults to true and neither -i, -n, nor -f given; refusing to clean\n"
     ]
    }
   ],
   "source": [
    "!git clean"
   ]
  },
  {
   "cell_type": "code",
   "execution_count": 3,
   "metadata": {
    "collapsed": false
   },
   "outputs": [
    {
     "name": "stderr",
     "output_type": "stream",
     "text": [
      "error: unknown switch `A'\n",
      "usage: git rm [<options>] [--] <file>...\n",
      "\n",
      "    -n, --dry-run         dry run\n",
      "    -q, --quiet           do not list removed files\n",
      "    --cached              only remove from the index\n",
      "    -f, --force           override the up-to-date check\n",
      "    -r                    allow recursive removal\n",
      "    --ignore-unmatch      exit with a zero status even if nothing matched\n",
      "\n"
     ]
    }
   ],
   "source": [
    "!git rm -r --cached  -A"
   ]
  },
  {
   "cell_type": "code",
   "execution_count": 8,
   "metadata": {
    "collapsed": false
   },
   "outputs": [
    {
     "name": "stdout",
     "output_type": "stream",
     "text": [
      "D:\\\n"
     ]
    }
   ],
   "source": [
    "cd ../"
   ]
  },
  {
   "cell_type": "code",
   "execution_count": 4,
   "metadata": {
    "collapsed": false
   },
   "outputs": [
    {
     "name": "stdout",
     "output_type": "stream",
     "text": [
      "Reinitialized existing Git repository in D:/git-learn/.git/\n"
     ]
    }
   ],
   "source": [
    "!git init"
   ]
  },
  {
   "cell_type": "code",
   "execution_count": 5,
   "metadata": {
    "collapsed": false
   },
   "outputs": [
    {
     "name": "stdout",
     "output_type": "stream",
     "text": [
      " 驱动器 D 中的卷是 DATA\n",
      " 卷的序列号是 1CAD-36D0\n",
      "\n",
      " D:\\git-learn 的目录\n",
      "\n",
      "2019-04-11  12:36    <DIR>          .\n",
      "2019-04-11  12:36    <DIR>          ..\n",
      "2019-04-10  22:18                11 .gitignore.ipynb\n",
      "2019-04-10  22:10    <DIR>          .ipynb_checkpoints\n",
      "2019-04-10  21:47                15 readme.txt\n",
      "2019-04-11  12:36             2,775 Untitled1.ipynb\n",
      "               3 个文件          2,801 字节\n",
      "               3 个目录 95,827,509,248 可用字节\n"
     ]
    }
   ],
   "source": [
    "%ls"
   ]
  },
  {
   "cell_type": "code",
   "execution_count": 6,
   "metadata": {
    "collapsed": false
   },
   "outputs": [
    {
     "name": "stdout",
     "output_type": "stream",
     "text": [
      "ratmhk\n"
     ]
    }
   ],
   "source": [
    "!git config  user.name"
   ]
  },
  {
   "cell_type": "code",
   "execution_count": 7,
   "metadata": {
    "collapsed": false
   },
   "outputs": [
    {
     "name": "stderr",
     "output_type": "stream",
     "text": [
      "warning: LF will be replaced by CRLF in .ipynb_checkpoints/.gitignore-checkpoint.ipynb.\n",
      "The file will have its original line endings in your working directory\n",
      "warning: LF will be replaced by CRLF in .ipynb_checkpoints/Untitled1-checkpoint.ipynb.\n",
      "The file will have its original line endings in your working directory\n",
      "warning: LF will be replaced by CRLF in Untitled1.ipynb.\n",
      "The file will have its original line endings in your working directory\n"
     ]
    }
   ],
   "source": [
    "!git  add -A"
   ]
  },
  {
   "cell_type": "code",
   "execution_count": 8,
   "metadata": {
    "collapsed": false,
    "scrolled": true
   },
   "outputs": [
    {
     "name": "stdout",
     "output_type": "stream",
     "text": [
      "On branch master\n",
      "\n",
      "No commits yet\n",
      "\n",
      "Changes to be committed:\n",
      "  (use \"git rm --cached <file>...\" to unstage)\n",
      "\n",
      "\tnew file:   .gitignore.ipynb\n",
      "\tnew file:   .ipynb_checkpoints/.gitignore-checkpoint.ipynb\n",
      "\tnew file:   .ipynb_checkpoints/Untitled1-checkpoint.ipynb\n",
      "\tnew file:   Untitled1.ipynb\n",
      "\tnew file:   readme.txt\n",
      "\n"
     ]
    }
   ],
   "source": [
    "!git  status"
   ]
  },
  {
   "cell_type": "code",
   "execution_count": 13,
   "metadata": {
    "collapsed": false
   },
   "outputs": [
    {
     "name": "stdout",
     "output_type": "stream",
     "text": [
      "[master (root-commit) cb643f1] add readme.txt\n",
      " 5 files changed, 244 insertions(+)\n",
      " create mode 100644 .gitignore.ipynb\n",
      " create mode 100644 .ipynb_checkpoints/.gitignore-checkpoint.ipynb\n",
      " create mode 100644 .ipynb_checkpoints/Untitled1-checkpoint.ipynb\n",
      " create mode 100644 Untitled1.ipynb\n",
      " create mode 100644 readme.txt\n"
     ]
    }
   ],
   "source": [
    "!git commit -m\"add readme.txt\""
   ]
  },
  {
   "cell_type": "code",
   "execution_count": 12,
   "metadata": {
    "collapsed": false
   },
   "outputs": [
    {
     "name": "stdout",
     "output_type": "stream",
     "text": [
      "ratmhk\n",
      "1563040726@qq.com\n"
     ]
    }
   ],
   "source": [
    "!git config  user.name\n",
    "!git config  user.email"
   ]
  },
  {
   "cell_type": "code",
   "execution_count": 11,
   "metadata": {
    "collapsed": true
   },
   "outputs": [],
   "source": [
    "!git config --global user.email \"1563040726@qq.com\""
   ]
  },
  {
   "cell_type": "code",
   "execution_count": 16,
   "metadata": {
    "collapsed": false
   },
   "outputs": [
    {
     "name": "stdout",
     "output_type": "stream",
     "text": [
      "Branch 'master' set up to track remote branch 'master' from 'origin'.\n"
     ]
    },
    {
     "name": "stderr",
     "output_type": "stream",
     "text": [
      "To https://github.com/ratmhk/git-learn.git\n",
      " * [new branch]      master -> master\n"
     ]
    }
   ],
   "source": [
    "!git remote add origin https://github.com/ratmhk/git-learn.git\n",
    "!git push -u origin master"
   ]
  },
  {
   "cell_type": "code",
   "execution_count": 18,
   "metadata": {
    "collapsed": false
   },
   "outputs": [
    {
     "name": "stderr",
     "output_type": "stream",
     "text": [
      "Cloning into 'pytorch-book'...\n"
     ]
    }
   ],
   "source": [
    "!git  clone https://github.com/chenyuntc/pytorch-book"
   ]
  },
  {
   "cell_type": "code",
   "execution_count": 21,
   "metadata": {
    "collapsed": false
   },
   "outputs": [],
   "source": [
    "!echo \"hello China 11\" >> readme.txt"
   ]
  },
  {
   "cell_type": "code",
   "execution_count": 24,
   "metadata": {
    "collapsed": false
   },
   "outputs": [],
   "source": [
    "%pycat readme.txt"
   ]
  }
 ],
 "metadata": {
  "kernelspec": {
   "display_name": "Python 3",
   "language": "python",
   "name": "python3"
  },
  "language_info": {
   "codemirror_mode": {
    "name": "ipython",
    "version": 3
   },
   "file_extension": ".py",
   "mimetype": "text/x-python",
   "name": "python",
   "nbconvert_exporter": "python",
   "pygments_lexer": "ipython3",
   "version": "3.6.8"
  }
 },
 "nbformat": 4,
 "nbformat_minor": 2
}
